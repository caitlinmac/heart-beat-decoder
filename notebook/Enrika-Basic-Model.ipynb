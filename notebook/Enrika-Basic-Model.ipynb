{
 "cells": [
  {
   "cell_type": "code",
   "execution_count": 1,
   "id": "445d1aa5-590c-4f33-889e-88bf91fe57c1",
   "metadata": {},
   "outputs": [],
   "source": [
    "import numpy as np\n",
    "import pandas as pd\n",
    "import matplotlib.pyplot as plt\n",
    "from sklearn.model_selection import train_test_split, cross_val_score, StratifiedKFold, GridSearchCV, learning_curve\n",
    "from sklearn.preprocessing import MinMaxScaler\n",
    "from imblearn.over_sampling import SMOTE\n",
    "from sklearn.ensemble import RandomForestClassifier\n",
    "from sklearn.metrics import classification_report, confusion_matrix, accuracy_score"
   ]
  },
  {
   "cell_type": "code",
   "execution_count": 2,
   "id": "cdca77b3-8d8b-45ff-910f-a1ed320bdaad",
   "metadata": {},
   "outputs": [],
   "source": [
    "data = pd.read_csv('/Users/enrikasoucy/Downloads/archive (13)/INCART 2-lead Arrhythmia Database.csv')"
   ]
  },
  {
   "cell_type": "code",
   "execution_count": 3,
   "id": "6c3a8193-931a-4eec-8350-68d8eaccfeb2",
   "metadata": {},
   "outputs": [],
   "source": [
    "subset_fraction = 0.1\n",
    "data_subset = data.sample(frac=subset_fraction, random_state=42)"
   ]
  },
  {
   "cell_type": "code",
   "execution_count": 4,
   "id": "b9a0fc08-7ca0-4dd3-b27f-172959a8aa02",
   "metadata": {},
   "outputs": [
    {
     "data": {
      "text/html": [
       "<div>\n",
       "<style scoped>\n",
       "    .dataframe tbody tr th:only-of-type {\n",
       "        vertical-align: middle;\n",
       "    }\n",
       "\n",
       "    .dataframe tbody tr th {\n",
       "        vertical-align: top;\n",
       "    }\n",
       "\n",
       "    .dataframe thead th {\n",
       "        text-align: right;\n",
       "    }\n",
       "</style>\n",
       "<table border=\"1\" class=\"dataframe\">\n",
       "  <thead>\n",
       "    <tr style=\"text-align: right;\">\n",
       "      <th></th>\n",
       "      <th>record</th>\n",
       "      <th>type</th>\n",
       "      <th>0_pre-RR</th>\n",
       "      <th>0_post-RR</th>\n",
       "      <th>0_pPeak</th>\n",
       "      <th>0_tPeak</th>\n",
       "      <th>0_rPeak</th>\n",
       "      <th>0_sPeak</th>\n",
       "      <th>0_qPeak</th>\n",
       "      <th>0_qrs_interval</th>\n",
       "      <th>...</th>\n",
       "      <th>1_qPeak</th>\n",
       "      <th>1_qrs_interval</th>\n",
       "      <th>1_pq_interval</th>\n",
       "      <th>1_qt_interval</th>\n",
       "      <th>1_st_interval</th>\n",
       "      <th>1_qrs_morph0</th>\n",
       "      <th>1_qrs_morph1</th>\n",
       "      <th>1_qrs_morph2</th>\n",
       "      <th>1_qrs_morph3</th>\n",
       "      <th>1_qrs_morph4</th>\n",
       "    </tr>\n",
       "  </thead>\n",
       "  <tbody>\n",
       "    <tr>\n",
       "      <th>127003</th>\n",
       "      <td>I53</td>\n",
       "      <td>N</td>\n",
       "      <td>207</td>\n",
       "      <td>116</td>\n",
       "      <td>-0.271953</td>\n",
       "      <td>-0.581058</td>\n",
       "      <td>1.159358</td>\n",
       "      <td>-0.969211</td>\n",
       "      <td>-0.283819</td>\n",
       "      <td>18</td>\n",
       "      <td>...</td>\n",
       "      <td>-0.092437</td>\n",
       "      <td>5</td>\n",
       "      <td>5</td>\n",
       "      <td>19</td>\n",
       "      <td>9</td>\n",
       "      <td>-0.092437</td>\n",
       "      <td>-0.235143</td>\n",
       "      <td>-0.390789</td>\n",
       "      <td>-0.541035</td>\n",
       "      <td>-0.659099</td>\n",
       "    </tr>\n",
       "    <tr>\n",
       "      <th>42375</th>\n",
       "      <td>I18</td>\n",
       "      <td>N</td>\n",
       "      <td>132</td>\n",
       "      <td>129</td>\n",
       "      <td>-0.062590</td>\n",
       "      <td>-0.165819</td>\n",
       "      <td>1.064046</td>\n",
       "      <td>-0.661974</td>\n",
       "      <td>-0.083663</td>\n",
       "      <td>16</td>\n",
       "      <td>...</td>\n",
       "      <td>-0.112104</td>\n",
       "      <td>18</td>\n",
       "      <td>8</td>\n",
       "      <td>35</td>\n",
       "      <td>9</td>\n",
       "      <td>-0.112104</td>\n",
       "      <td>-0.106871</td>\n",
       "      <td>-0.055238</td>\n",
       "      <td>0.098790</td>\n",
       "      <td>-0.329881</td>\n",
       "    </tr>\n",
       "    <tr>\n",
       "      <th>174362</th>\n",
       "      <td>I75</td>\n",
       "      <td>N</td>\n",
       "      <td>261</td>\n",
       "      <td>213</td>\n",
       "      <td>0.023637</td>\n",
       "      <td>0.908885</td>\n",
       "      <td>-0.227999</td>\n",
       "      <td>-0.227999</td>\n",
       "      <td>-0.711413</td>\n",
       "      <td>3</td>\n",
       "      <td>...</td>\n",
       "      <td>-0.146879</td>\n",
       "      <td>4</td>\n",
       "      <td>3</td>\n",
       "      <td>23</td>\n",
       "      <td>16</td>\n",
       "      <td>-0.146879</td>\n",
       "      <td>-0.146879</td>\n",
       "      <td>-0.448174</td>\n",
       "      <td>-0.722754</td>\n",
       "      <td>-0.912820</td>\n",
       "    </tr>\n",
       "    <tr>\n",
       "      <th>9502</th>\n",
       "      <td>I04</td>\n",
       "      <td>N</td>\n",
       "      <td>172</td>\n",
       "      <td>170</td>\n",
       "      <td>-0.021703</td>\n",
       "      <td>0.159623</td>\n",
       "      <td>-0.018327</td>\n",
       "      <td>-0.018327</td>\n",
       "      <td>-0.064718</td>\n",
       "      <td>2</td>\n",
       "      <td>...</td>\n",
       "      <td>-0.086555</td>\n",
       "      <td>5</td>\n",
       "      <td>3</td>\n",
       "      <td>25</td>\n",
       "      <td>17</td>\n",
       "      <td>-0.086555</td>\n",
       "      <td>-0.218276</td>\n",
       "      <td>-0.364151</td>\n",
       "      <td>-0.500625</td>\n",
       "      <td>-0.603351</td>\n",
       "    </tr>\n",
       "    <tr>\n",
       "      <th>149736</th>\n",
       "      <td>I64</td>\n",
       "      <td>VEB</td>\n",
       "      <td>251</td>\n",
       "      <td>299</td>\n",
       "      <td>0.001921</td>\n",
       "      <td>0.926707</td>\n",
       "      <td>-1.034751</td>\n",
       "      <td>-1.237492</td>\n",
       "      <td>-1.034751</td>\n",
       "      <td>3</td>\n",
       "      <td>...</td>\n",
       "      <td>-0.128392</td>\n",
       "      <td>8</td>\n",
       "      <td>20</td>\n",
       "      <td>42</td>\n",
       "      <td>14</td>\n",
       "      <td>-0.128392</td>\n",
       "      <td>-0.142729</td>\n",
       "      <td>-0.207564</td>\n",
       "      <td>-0.257827</td>\n",
       "      <td>-0.359538</td>\n",
       "    </tr>\n",
       "  </tbody>\n",
       "</table>\n",
       "<p>5 rows × 34 columns</p>\n",
       "</div>"
      ],
      "text/plain": [
       "       record type  0_pre-RR  0_post-RR   0_pPeak   0_tPeak   0_rPeak  \\\n",
       "127003    I53    N       207        116 -0.271953 -0.581058  1.159358   \n",
       "42375     I18    N       132        129 -0.062590 -0.165819  1.064046   \n",
       "174362    I75    N       261        213  0.023637  0.908885 -0.227999   \n",
       "9502      I04    N       172        170 -0.021703  0.159623 -0.018327   \n",
       "149736    I64  VEB       251        299  0.001921  0.926707 -1.034751   \n",
       "\n",
       "         0_sPeak   0_qPeak  0_qrs_interval  ...   1_qPeak  1_qrs_interval  \\\n",
       "127003 -0.969211 -0.283819              18  ... -0.092437               5   \n",
       "42375  -0.661974 -0.083663              16  ... -0.112104              18   \n",
       "174362 -0.227999 -0.711413               3  ... -0.146879               4   \n",
       "9502   -0.018327 -0.064718               2  ... -0.086555               5   \n",
       "149736 -1.237492 -1.034751               3  ... -0.128392               8   \n",
       "\n",
       "        1_pq_interval  1_qt_interval  1_st_interval  1_qrs_morph0  \\\n",
       "127003              5             19              9     -0.092437   \n",
       "42375               8             35              9     -0.112104   \n",
       "174362              3             23             16     -0.146879   \n",
       "9502                3             25             17     -0.086555   \n",
       "149736             20             42             14     -0.128392   \n",
       "\n",
       "        1_qrs_morph1  1_qrs_morph2  1_qrs_morph3  1_qrs_morph4  \n",
       "127003     -0.235143     -0.390789     -0.541035     -0.659099  \n",
       "42375      -0.106871     -0.055238      0.098790     -0.329881  \n",
       "174362     -0.146879     -0.448174     -0.722754     -0.912820  \n",
       "9502       -0.218276     -0.364151     -0.500625     -0.603351  \n",
       "149736     -0.142729     -0.207564     -0.257827     -0.359538  \n",
       "\n",
       "[5 rows x 34 columns]"
      ]
     },
     "execution_count": 4,
     "metadata": {},
     "output_type": "execute_result"
    }
   ],
   "source": [
    "data_subset.head()"
   ]
  },
  {
   "cell_type": "code",
   "execution_count": 5,
   "id": "6b5e55c7-454a-4f5f-b1a1-7e9e081c81b8",
   "metadata": {},
   "outputs": [
    {
     "data": {
      "text/plain": [
       "(17573, 34)"
      ]
     },
     "execution_count": 5,
     "metadata": {},
     "output_type": "execute_result"
    }
   ],
   "source": [
    "data_subset.shape"
   ]
  },
  {
   "cell_type": "code",
   "execution_count": 6,
   "id": "08212d74-dcae-40dc-abc8-ca117167942b",
   "metadata": {},
   "outputs": [],
   "source": [
    "type_mapping = {\n",
    "    'N': 'Normal',\n",
    "    'SVEB': 'Abnormal',\n",
    "    'VEB': 'Abnormal',\n",
    "    'F': 'Abnormal',\n",
    "    'Q': 'Abnormal'\n",
    "}\n",
    "data_subset['type'] = data_subset['type'].map(type_mapping)"
   ]
  },
  {
   "cell_type": "code",
   "execution_count": 7,
   "id": "57e77597-0ff6-4dda-9222-fa5ea10d44e2",
   "metadata": {},
   "outputs": [],
   "source": [
    "type_counts = data_subset['type'].value_counts()"
   ]
  },
  {
   "cell_type": "code",
   "execution_count": 8,
   "id": "5319e85b-84d6-4003-9e37-381a44bb876e",
   "metadata": {},
   "outputs": [
    {
     "name": "stdout",
     "output_type": "stream",
     "text": [
      "Counts of Each Type:\n",
      "Normal: 15291\n",
      "Abnormal: 2282\n"
     ]
    }
   ],
   "source": [
    "binary_type_names = {\n",
    "    'Normal': 'Normal',\n",
    "    'Abnormal': 'Abnormal'\n",
    "}\n",
    "\n",
    "print(\"Counts of Each Type:\")\n",
    "for type_code, count in type_counts.items():\n",
    "    print(f\"{binary_type_names[type_code]}: {count}\")"
   ]
  },
  {
   "cell_type": "code",
   "execution_count": 9,
   "id": "b00e555e-da0f-4234-9581-c9d64965b841",
   "metadata": {},
   "outputs": [
    {
     "data": {
      "image/png": "[encoded data removed]",
      "text/plain": [
       "<Figure size 1000x600 with 1 Axes>"
      ]
     },
     "metadata": {},
     "output_type": "display_data"
    }
   ],
   "source": [
    "type_counts.index = type_counts.index.map(binary_type_names)\n",
    "\n",
    "plt.figure(figsize=(10, 6))\n",
    "type_counts.plot(kind='bar', color='skyblue')\n",
    "plt.title('Counts of Each Type')\n",
    "plt.xlabel('Type')\n",
    "plt.ylabel('Count')\n",
    "plt.xticks(rotation=45)\n",
    "plt.grid(axis='y')\n",
    "plt.show()"
   ]
  },
  {
   "cell_type": "code",
   "execution_count": 10,
   "id": "8928a33b-ad70-4f58-8a13-6c73bf2d6121",
   "metadata": {},
   "outputs": [],
   "source": [
    "data_subset = data_subset.drop(columns=['record'])"
   ]
  },
  {
   "cell_type": "code",
   "execution_count": 25,
   "id": "18554c03-4f56-4a53-8bc5-db1a326dfe9d",
   "metadata": {},
   "outputs": [
    {
     "data": {
      "text/html": [
       "<div>\n",
       "<style scoped>\n",
       "    .dataframe tbody tr th:only-of-type {\n",
       "        vertical-align: middle;\n",
       "    }\n",
       "\n",
       "    .dataframe tbody tr th {\n",
       "        vertical-align: top;\n",
       "    }\n",
       "\n",
       "    .dataframe thead th {\n",
       "        text-align: right;\n",
       "    }\n",
       "</style>\n",
       "<table border=\"1\" class=\"dataframe\">\n",
       "  <thead>\n",
       "    <tr style=\"text-align: right;\">\n",
       "      <th></th>\n",
       "      <th>type</th>\n",
       "      <th>0_pre-RR</th>\n",
       "      <th>0_post-RR</th>\n",
       "      <th>0_pPeak</th>\n",
       "      <th>0_tPeak</th>\n",
       "      <th>0_rPeak</th>\n",
       "      <th>0_sPeak</th>\n",
       "      <th>0_qPeak</th>\n",
       "      <th>0_qrs_interval</th>\n",
       "      <th>0_pq_interval</th>\n",
       "      <th>...</th>\n",
       "      <th>1_qPeak</th>\n",
       "      <th>1_qrs_interval</th>\n",
       "      <th>1_pq_interval</th>\n",
       "      <th>1_qt_interval</th>\n",
       "      <th>1_st_interval</th>\n",
       "      <th>1_qrs_morph0</th>\n",
       "      <th>1_qrs_morph1</th>\n",
       "      <th>1_qrs_morph2</th>\n",
       "      <th>1_qrs_morph3</th>\n",
       "      <th>1_qrs_morph4</th>\n",
       "    </tr>\n",
       "  </thead>\n",
       "  <tbody>\n",
       "    <tr>\n",
       "      <th>127003</th>\n",
       "      <td>Normal</td>\n",
       "      <td>207</td>\n",
       "      <td>116</td>\n",
       "      <td>-0.271953</td>\n",
       "      <td>-0.581058</td>\n",
       "      <td>1.159358</td>\n",
       "      <td>-0.969211</td>\n",
       "      <td>-0.283819</td>\n",
       "      <td>18</td>\n",
       "      <td>3</td>\n",
       "      <td>...</td>\n",
       "      <td>-0.092437</td>\n",
       "      <td>5</td>\n",
       "      <td>5</td>\n",
       "      <td>19</td>\n",
       "      <td>9</td>\n",
       "      <td>-0.092437</td>\n",
       "      <td>-0.235143</td>\n",
       "      <td>-0.390789</td>\n",
       "      <td>-0.541035</td>\n",
       "      <td>-0.659099</td>\n",
       "    </tr>\n",
       "    <tr>\n",
       "      <th>42375</th>\n",
       "      <td>Normal</td>\n",
       "      <td>132</td>\n",
       "      <td>129</td>\n",
       "      <td>-0.062590</td>\n",
       "      <td>-0.165819</td>\n",
       "      <td>1.064046</td>\n",
       "      <td>-0.661974</td>\n",
       "      <td>-0.083663</td>\n",
       "      <td>16</td>\n",
       "      <td>5</td>\n",
       "      <td>...</td>\n",
       "      <td>-0.112104</td>\n",
       "      <td>18</td>\n",
       "      <td>8</td>\n",
       "      <td>35</td>\n",
       "      <td>9</td>\n",
       "      <td>-0.112104</td>\n",
       "      <td>-0.106871</td>\n",
       "      <td>-0.055238</td>\n",
       "      <td>0.098790</td>\n",
       "      <td>-0.329881</td>\n",
       "    </tr>\n",
       "    <tr>\n",
       "      <th>174362</th>\n",
       "      <td>Normal</td>\n",
       "      <td>261</td>\n",
       "      <td>213</td>\n",
       "      <td>0.023637</td>\n",
       "      <td>0.908885</td>\n",
       "      <td>-0.227999</td>\n",
       "      <td>-0.227999</td>\n",
       "      <td>-0.711413</td>\n",
       "      <td>3</td>\n",
       "      <td>9</td>\n",
       "      <td>...</td>\n",
       "      <td>-0.146879</td>\n",
       "      <td>4</td>\n",
       "      <td>3</td>\n",
       "      <td>23</td>\n",
       "      <td>16</td>\n",
       "      <td>-0.146879</td>\n",
       "      <td>-0.146879</td>\n",
       "      <td>-0.448174</td>\n",
       "      <td>-0.722754</td>\n",
       "      <td>-0.912820</td>\n",
       "    </tr>\n",
       "    <tr>\n",
       "      <th>9502</th>\n",
       "      <td>Normal</td>\n",
       "      <td>172</td>\n",
       "      <td>170</td>\n",
       "      <td>-0.021703</td>\n",
       "      <td>0.159623</td>\n",
       "      <td>-0.018327</td>\n",
       "      <td>-0.018327</td>\n",
       "      <td>-0.064718</td>\n",
       "      <td>2</td>\n",
       "      <td>5</td>\n",
       "      <td>...</td>\n",
       "      <td>-0.086555</td>\n",
       "      <td>5</td>\n",
       "      <td>3</td>\n",
       "      <td>25</td>\n",
       "      <td>17</td>\n",
       "      <td>-0.086555</td>\n",
       "      <td>-0.218276</td>\n",
       "      <td>-0.364151</td>\n",
       "      <td>-0.500625</td>\n",
       "      <td>-0.603351</td>\n",
       "    </tr>\n",
       "    <tr>\n",
       "      <th>149736</th>\n",
       "      <td>Abnormal</td>\n",
       "      <td>251</td>\n",
       "      <td>299</td>\n",
       "      <td>0.001921</td>\n",
       "      <td>0.926707</td>\n",
       "      <td>-1.034751</td>\n",
       "      <td>-1.237492</td>\n",
       "      <td>-1.034751</td>\n",
       "      <td>3</td>\n",
       "      <td>18</td>\n",
       "      <td>...</td>\n",
       "      <td>-0.128392</td>\n",
       "      <td>8</td>\n",
       "      <td>20</td>\n",
       "      <td>42</td>\n",
       "      <td>14</td>\n",
       "      <td>-0.128392</td>\n",
       "      <td>-0.142729</td>\n",
       "      <td>-0.207564</td>\n",
       "      <td>-0.257827</td>\n",
       "      <td>-0.359538</td>\n",
       "    </tr>\n",
       "  </tbody>\n",
       "</table>\n",
       "<p>5 rows × 33 columns</p>\n",
       "</div>"
      ],
      "text/plain": [
       "            type  0_pre-RR  0_post-RR   0_pPeak   0_tPeak   0_rPeak   0_sPeak  \\\n",
       "127003    Normal       207        116 -0.271953 -0.581058  1.159358 -0.969211   \n",
       "42375     Normal       132        129 -0.062590 -0.165819  1.064046 -0.661974   \n",
       "174362    Normal       261        213  0.023637  0.908885 -0.227999 -0.227999   \n",
       "9502      Normal       172        170 -0.021703  0.159623 -0.018327 -0.018327   \n",
       "149736  Abnormal       251        299  0.001921  0.926707 -1.034751 -1.237492   \n",
       "\n",
       "         0_qPeak  0_qrs_interval  0_pq_interval  ...   1_qPeak  \\\n",
       "127003 -0.283819              18              3  ... -0.092437   \n",
       "42375  -0.083663              16              5  ... -0.112104   \n",
       "174362 -0.711413               3              9  ... -0.146879   \n",
       "9502   -0.064718               2              5  ... -0.086555   \n",
       "149736 -1.034751               3             18  ... -0.128392   \n",
       "\n",
       "        1_qrs_interval  1_pq_interval  1_qt_interval  1_st_interval  \\\n",
       "127003               5              5             19              9   \n",
       "42375               18              8             35              9   \n",
       "174362               4              3             23             16   \n",
       "9502                 5              3             25             17   \n",
       "149736               8             20             42             14   \n",
       "\n",
       "        1_qrs_morph0  1_qrs_morph1  1_qrs_morph2  1_qrs_morph3  1_qrs_morph4  \n",
       "127003     -0.092437     -0.235143     -0.390789     -0.541035     -0.659099  \n",
       "42375      -0.112104     -0.106871     -0.055238      0.098790     -0.329881  \n",
       "174362     -0.146879     -0.146879     -0.448174     -0.722754     -0.912820  \n",
       "9502       -0.086555     -0.218276     -0.364151     -0.500625     -0.603351  \n",
       "149736     -0.128392     -0.142729     -0.207564     -0.257827     -0.359538  \n",
       "\n",
       "[5 rows x 33 columns]"
      ]
     },
     "execution_count": 25,
     "metadata": {},
     "output_type": "execute_result"
    }
   ],
   "source": [
    "data_subset.head()"
   ]
  },
  {
   "cell_type": "code",
   "execution_count": 11,
   "id": "72f1fed6-e839-4716-a2c9-2163d55ee1b5",
   "metadata": {},
   "outputs": [],
   "source": [
    "X = data_subset.drop('type', axis=1)\n",
    "y = data_subset['type']"
   ]
  },
  {
   "cell_type": "code",
   "execution_count": 13,
   "id": "76099631-bb3e-411d-a624-3c8e1d3a454c",
   "metadata": {},
   "outputs": [],
   "source": [
    "binary_type_mapping = {'Normal': 0, 'Abnormal': 1}\n",
    "y = y.map(binary_type_mapping)"
   ]
  },
  {
   "cell_type": "code",
   "execution_count": 14,
   "id": "4c901afb-2d16-441c-a1ff-9d6b819fd871",
   "metadata": {},
   "outputs": [],
   "source": [
    "X_train, X_test, y_train, y_test = train_test_split(X, y, test_size=0.2, stratify=y, random_state=42)"
   ]
  },
  {
   "cell_type": "code",
   "execution_count": 15,
   "id": "7720d067-e5c5-4fe4-87bf-fff0e1a0b7cd",
   "metadata": {},
   "outputs": [],
   "source": [
    "scaler = MinMaxScaler()\n",
    "X_train = scaler.fit_transform(X_train)\n",
    "X_test = scaler.transform(X_test)"
   ]
  },
  {
   "cell_type": "code",
   "execution_count": 16,
   "id": "e421445f-b25d-4809-a611-df7416e02dc7",
   "metadata": {},
   "outputs": [],
   "source": [
    "smote = SMOTE(sampling_strategy='auto', random_state=42, k_neighbors=3)\n",
    "X_train_resampled, y_train_resampled = smote.fit_resample(X_train, y_train)"
   ]
  },
  {
   "cell_type": "code",
   "execution_count": 17,
   "id": "e6a193f5-35d3-48e3-b252-b898791ee3f8",
   "metadata": {},
   "outputs": [],
   "source": [
    "subset_size = 1000\n",
    "X_train_subsample = X_train_resampled[:subset_size]\n",
    "y_train_subsample = y_train_resampled[:subset_size]\n",
    "\n",
    "model = RandomForestClassifier(random_state=101, n_estimators=50)"
   ]
  },
  {
   "cell_type": "code",
   "execution_count": 18,
   "id": "61961ac4-e066-4021-a089-64b3f4bf0a19",
   "metadata": {},
   "outputs": [
    {
     "name": "stdout",
     "output_type": "stream",
     "text": [
      "Cross-val scores:  [0.975 0.98  0.98  0.975 0.995]\n",
      "Avg cross-val score:  0.9810000000000001\n"
     ]
    }
   ],
   "source": [
    "cv = StratifiedKFold(n_splits=5, shuffle=True, random_state=42)\n",
    "scores = cross_val_score(model, X_train_subsample, y_train_subsample, cv=cv, scoring='accuracy')\n",
    "print(\"Cross-val scores: \", scores)\n",
    "print(\"Avg cross-val score: \", scores.mean())"
   ]
  },
  {
   "cell_type": "code",
   "execution_count": 19,
   "id": "84b504ca-559c-449f-9fba-4de119878c23",
   "metadata": {},
   "outputs": [
    {
     "name": "stdout",
     "output_type": "stream",
     "text": [
      "Best params:  {'max_depth': None, 'min_samples_leaf': 1, 'min_samples_split': 5, 'n_estimators': 200}\n",
      "Best cross-val score:  0.985\n"
     ]
    }
   ],
   "source": [
    "param_grid = {\n",
    "    'n_estimators': [50, 100, 200],\n",
    "    'max_depth': [None, 10, 20],\n",
    "    'min_samples_split': [2, 5, 10],\n",
    "    'min_samples_leaf': [1, 2, 4]\n",
    "}\n",
    "\n",
    "grid_search = GridSearchCV(estimator=model, param_grid=param_grid, cv=cv, scoring='accuracy')\n",
    "grid_search.fit(X_train_subsample, y_train_subsample)\n",
    "\n",
    "print(\"Best params: \", grid_search.best_params_)\n",
    "print(\"Best cross-val score: \", grid_search.best_score_)"
   ]
  },
  {
   "cell_type": "code",
   "execution_count": 20,
   "id": "ed28bb82-4b59-453e-aed6-af5669aec3b1",
   "metadata": {
    "scrolled": true
   },
   "outputs": [
    {
     "name": "stdout",
     "output_type": "stream",
     "text": [
      "Accuracy: 0.9837837837837838\n",
      "*** Confusion Matrix ***\n",
      "[[3053    6]\n",
      " [  51  405]]\n",
      "*** Classification Report ***\n",
      "              precision    recall  f1-score   support\n",
      "\n",
      "      Normal       0.98      1.00      0.99      3059\n",
      "    Abnormal       0.99      0.89      0.93       456\n",
      "\n",
      "    accuracy                           0.98      3515\n",
      "   macro avg       0.98      0.94      0.96      3515\n",
      "weighted avg       0.98      0.98      0.98      3515\n",
      "\n"
     ]
    }
   ],
   "source": [
    "best_model = grid_search.best_estimator_\n",
    "best_model.fit(X_train_subsample, y_train_subsample)\n",
    "y_pred = best_model.predict(X_test)\n",
    "accuracy = accuracy_score(y_test, y_pred)\n",
    "print(f\"Accuracy: {accuracy}\")\n",
    "print(\"*** Confusion Matrix ***\")\n",
    "print(confusion_matrix(y_test, y_pred))\n",
    "print(\"*** Classification Report ***\")\n",
    "print(classification_report(y_test, y_pred, target_names=list(binary_type_names.values())))"
   ]
  },
  {
   "cell_type": "code",
   "execution_count": 21,
   "id": "d0059c8d-4ffa-4bc9-89ee-5a2d2432458e",
   "metadata": {},
   "outputs": [],
   "source": [
    "train_sizes, train_scores, test_scores = learning_curve(best_model, X_train_subsample, y_train_subsample, cv=cv, scoring='accuracy', n_jobs=-1, train_sizes=np.linspace(0.1, 1.0, 10))"
   ]
  },
  {
   "cell_type": "code",
   "execution_count": 22,
   "id": "f7c174ff-bc1e-47b9-9cfd-c43dda66c8eb",
   "metadata": {},
   "outputs": [
    {
     "data": {
      "image/png": "[encoded data removed]",
      "text/plain": [
       "<Figure size 1000x600 with 1 Axes>"
      ]
     },
     "metadata": {},
     "output_type": "display_data"
    }
   ],
   "source": [
    "train_scores_mean = np.mean(train_scores, axis=1)\n",
    "train_scores_std = np.std(train_scores, axis=1)\n",
    "test_scores_mean = np.mean(test_scores, axis=1)\n",
    "test_scores_std = np.std(test_scores, axis=1)\n",
    "\n",
    "plt.figure(figsize=(10, 6))\n",
    "plt.title('Learning Curve')\n",
    "plt.xlabel('Training Examples')\n",
    "plt.ylabel('Accuracy Score')\n",
    "plt.grid()\n",
    "\n",
    "plt.fill_between(train_sizes, train_scores_mean - train_scores_std, train_scores_mean + train_scores_std, alpha=0.1, color=\"r\")\n",
    "plt.fill_between(train_sizes, test_scores_mean - test_scores_std, test_scores_mean + test_scores_std, alpha=0.1, color=\"g\")\n",
    "\n",
    "plt.plot(train_sizes, train_scores_mean, 'o-', color=\"r\", label=\"Training Score\")\n",
    "plt.plot(train_sizes, test_scores_mean, 'o-', color=\"g\", label=\"Cross-Validation Score\")\n",
    "\n",
    "plt.legend(loc=\"best\")\n",
    "plt.show()"
   ]
  },
  {
   "cell_type": "code",
   "execution_count": null,
   "id": "0ab07ad9-deaf-4379-b0d7-7ce19297645e",
   "metadata": {},
   "outputs": [],
   "source": []
  }
 ],
 "metadata": {
  "kernelspec": {
   "display_name": "Python 3 (ipykernel)",
   "language": "python",
   "name": "python3"
  },
  "language_info": {
   "codemirror_mode": {
    "name": "ipython",
    "version": 3
   },
   "file_extension": ".py",
   "mimetype": "text/x-python",
   "name": "python",
   "nbconvert_exporter": "python",
   "pygments_lexer": "ipython3",
   "version": "3.10.6"
  }
 },
 "nbformat": 4,
 "nbformat_minor": 5
}
