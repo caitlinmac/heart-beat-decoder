{
 "cells": [
  {
   "cell_type": "code",
   "execution_count": 2,
   "metadata": {},
   "outputs": [],
   "source": [
    "import os\n",
    "import csv\n",
    "import pandas as pd"
   ]
  },
  {
   "cell_type": "code",
   "execution_count": 2,
   "metadata": {},
   "outputs": [],
   "source": [
    "# list of .csv files in the directory\n",
    "incart_csv = 'INCART 2-lead Arrhythmia Database' # this is the most relevant at the current time of writing this\n",
    "arr_csv = 'MIT-BIH Arrhythmia Database'\n",
    "supra_csv = 'MIT-BIH Supraventricular Arrhythmia Database'\n",
    "scdh_csv = 'Sudden Cardiac Death Holter Database'"
   ]
  },
  {
   "cell_type": "code",
   "execution_count": 3,
   "metadata": {},
   "outputs": [
    {
     "name": "stdout",
     "output_type": "stream",
     "text": [
      "/Users/dc.gale/code/caitlinmac/heart-beat-decoder\n"
     ]
    }
   ],
   "source": [
    "!pwd"
   ]
  },
  {
   "cell_type": "code",
   "execution_count": 5,
   "metadata": {},
   "outputs": [],
   "source": [
    "csv_path = os.path.join('~',\n",
    "                        'desktop', # root directory of the dataset folder\n",
    "                        'ECG Arrhythmia Classification Dataset', # dataset folder containing .csv files\n",
    "                        f'{incart_csv}.csv' # which csv are we looking at?\n",
    "                        )\n",
    "df = pd.read_csv(csv_path)"
   ]
  },
  {
   "cell_type": "code",
   "execution_count": 6,
   "metadata": {},
   "outputs": [
    {
     "name": "stdout",
     "output_type": "stream",
     "text": [
      "The \"INCART 2-lead Arrhythmia Database\" has 175729 rows and 34 columns.\n"
     ]
    }
   ],
   "source": [
    "rows = df.shape[0]\n",
    "cols = df.shape[1]\n",
    "print(f'The \"{incart_csv}\" has {rows} rows and {cols} columns.')"
   ]
  },
  {
   "cell_type": "code",
   "execution_count": 7,
   "metadata": {},
   "outputs": [
    {
     "data": {
      "text/html": [
       "<div>\n",
       "<style scoped>\n",
       "    .dataframe tbody tr th:only-of-type {\n",
       "        vertical-align: middle;\n",
       "    }\n",
       "\n",
       "    .dataframe tbody tr th {\n",
       "        vertical-align: top;\n",
       "    }\n",
       "\n",
       "    .dataframe thead th {\n",
       "        text-align: right;\n",
       "    }\n",
       "</style>\n",
       "<table border=\"1\" class=\"dataframe\">\n",
       "  <thead>\n",
       "    <tr style=\"text-align: right;\">\n",
       "      <th></th>\n",
       "      <th>record</th>\n",
       "      <th>type</th>\n",
       "      <th>0_pre-RR</th>\n",
       "      <th>0_post-RR</th>\n",
       "      <th>0_pPeak</th>\n",
       "      <th>0_tPeak</th>\n",
       "      <th>0_rPeak</th>\n",
       "      <th>0_sPeak</th>\n",
       "      <th>0_qPeak</th>\n",
       "      <th>0_qrs_interval</th>\n",
       "      <th>...</th>\n",
       "      <th>1_qPeak</th>\n",
       "      <th>1_qrs_interval</th>\n",
       "      <th>1_pq_interval</th>\n",
       "      <th>1_qt_interval</th>\n",
       "      <th>1_st_interval</th>\n",
       "      <th>1_qrs_morph0</th>\n",
       "      <th>1_qrs_morph1</th>\n",
       "      <th>1_qrs_morph2</th>\n",
       "      <th>1_qrs_morph3</th>\n",
       "      <th>1_qrs_morph4</th>\n",
       "    </tr>\n",
       "  </thead>\n",
       "  <tbody>\n",
       "    <tr>\n",
       "      <th>0</th>\n",
       "      <td>I01</td>\n",
       "      <td>N</td>\n",
       "      <td>163</td>\n",
       "      <td>165</td>\n",
       "      <td>0.069610</td>\n",
       "      <td>-0.083281</td>\n",
       "      <td>0.614133</td>\n",
       "      <td>-0.392761</td>\n",
       "      <td>0.047159</td>\n",
       "      <td>15</td>\n",
       "      <td>...</td>\n",
       "      <td>-0.023370</td>\n",
       "      <td>14</td>\n",
       "      <td>3</td>\n",
       "      <td>23</td>\n",
       "      <td>6</td>\n",
       "      <td>-0.023370</td>\n",
       "      <td>-0.011650</td>\n",
       "      <td>0.082608</td>\n",
       "      <td>0.101373</td>\n",
       "      <td>-0.183387</td>\n",
       "    </tr>\n",
       "    <tr>\n",
       "      <th>1</th>\n",
       "      <td>I01</td>\n",
       "      <td>N</td>\n",
       "      <td>165</td>\n",
       "      <td>166</td>\n",
       "      <td>-0.097030</td>\n",
       "      <td>0.597254</td>\n",
       "      <td>-0.078704</td>\n",
       "      <td>-0.078704</td>\n",
       "      <td>-0.137781</td>\n",
       "      <td>3</td>\n",
       "      <td>...</td>\n",
       "      <td>0.081637</td>\n",
       "      <td>15</td>\n",
       "      <td>5</td>\n",
       "      <td>27</td>\n",
       "      <td>7</td>\n",
       "      <td>0.081637</td>\n",
       "      <td>0.102992</td>\n",
       "      <td>0.191225</td>\n",
       "      <td>0.217544</td>\n",
       "      <td>-0.068248</td>\n",
       "    </tr>\n",
       "    <tr>\n",
       "      <th>2</th>\n",
       "      <td>I01</td>\n",
       "      <td>N</td>\n",
       "      <td>166</td>\n",
       "      <td>102</td>\n",
       "      <td>0.109399</td>\n",
       "      <td>0.680528</td>\n",
       "      <td>-0.010649</td>\n",
       "      <td>-0.010649</td>\n",
       "      <td>-0.720620</td>\n",
       "      <td>6</td>\n",
       "      <td>...</td>\n",
       "      <td>-0.148539</td>\n",
       "      <td>33</td>\n",
       "      <td>13</td>\n",
       "      <td>52</td>\n",
       "      <td>6</td>\n",
       "      <td>-0.148539</td>\n",
       "      <td>-0.060620</td>\n",
       "      <td>0.081080</td>\n",
       "      <td>0.204400</td>\n",
       "      <td>0.335172</td>\n",
       "    </tr>\n",
       "    <tr>\n",
       "      <th>3</th>\n",
       "      <td>I01</td>\n",
       "      <td>VEB</td>\n",
       "      <td>102</td>\n",
       "      <td>231</td>\n",
       "      <td>0.176376</td>\n",
       "      <td>0.256431</td>\n",
       "      <td>-0.101098</td>\n",
       "      <td>-0.707525</td>\n",
       "      <td>-0.101098</td>\n",
       "      <td>4</td>\n",
       "      <td>...</td>\n",
       "      <td>0.046898</td>\n",
       "      <td>21</td>\n",
       "      <td>9</td>\n",
       "      <td>34</td>\n",
       "      <td>4</td>\n",
       "      <td>0.046898</td>\n",
       "      <td>0.083728</td>\n",
       "      <td>0.279512</td>\n",
       "      <td>0.526785</td>\n",
       "      <td>0.450969</td>\n",
       "    </tr>\n",
       "    <tr>\n",
       "      <th>4</th>\n",
       "      <td>I01</td>\n",
       "      <td>N</td>\n",
       "      <td>231</td>\n",
       "      <td>165</td>\n",
       "      <td>0.585577</td>\n",
       "      <td>0.607461</td>\n",
       "      <td>-0.083499</td>\n",
       "      <td>-0.083499</td>\n",
       "      <td>-0.167858</td>\n",
       "      <td>3</td>\n",
       "      <td>...</td>\n",
       "      <td>-0.112552</td>\n",
       "      <td>32</td>\n",
       "      <td>5</td>\n",
       "      <td>43</td>\n",
       "      <td>6</td>\n",
       "      <td>-0.112552</td>\n",
       "      <td>0.012989</td>\n",
       "      <td>0.091491</td>\n",
       "      <td>0.134004</td>\n",
       "      <td>0.265232</td>\n",
       "    </tr>\n",
       "  </tbody>\n",
       "</table>\n",
       "<p>5 rows × 34 columns</p>\n",
       "</div>"
      ],
      "text/plain": [
       "  record type  0_pre-RR  0_post-RR   0_pPeak   0_tPeak   0_rPeak   0_sPeak  \\\n",
       "0    I01    N       163        165  0.069610 -0.083281  0.614133 -0.392761   \n",
       "1    I01    N       165        166 -0.097030  0.597254 -0.078704 -0.078704   \n",
       "2    I01    N       166        102  0.109399  0.680528 -0.010649 -0.010649   \n",
       "3    I01  VEB       102        231  0.176376  0.256431 -0.101098 -0.707525   \n",
       "4    I01    N       231        165  0.585577  0.607461 -0.083499 -0.083499   \n",
       "\n",
       "    0_qPeak  0_qrs_interval  ...   1_qPeak  1_qrs_interval  1_pq_interval  \\\n",
       "0  0.047159              15  ... -0.023370              14              3   \n",
       "1 -0.137781               3  ...  0.081637              15              5   \n",
       "2 -0.720620               6  ... -0.148539              33             13   \n",
       "3 -0.101098               4  ...  0.046898              21              9   \n",
       "4 -0.167858               3  ... -0.112552              32              5   \n",
       "\n",
       "   1_qt_interval  1_st_interval  1_qrs_morph0  1_qrs_morph1  1_qrs_morph2  \\\n",
       "0             23              6     -0.023370     -0.011650      0.082608   \n",
       "1             27              7      0.081637      0.102992      0.191225   \n",
       "2             52              6     -0.148539     -0.060620      0.081080   \n",
       "3             34              4      0.046898      0.083728      0.279512   \n",
       "4             43              6     -0.112552      0.012989      0.091491   \n",
       "\n",
       "   1_qrs_morph3  1_qrs_morph4  \n",
       "0      0.101373     -0.183387  \n",
       "1      0.217544     -0.068248  \n",
       "2      0.204400      0.335172  \n",
       "3      0.526785      0.450969  \n",
       "4      0.134004      0.265232  \n",
       "\n",
       "[5 rows x 34 columns]"
      ]
     },
     "execution_count": 7,
     "metadata": {},
     "output_type": "execute_result"
    }
   ],
   "source": [
    "df.head()"
   ]
  },
  {
   "cell_type": "code",
   "execution_count": 9,
   "metadata": {},
   "outputs": [
    {
     "ename": "NameError",
     "evalue": "name '__file__' is not defined",
     "output_type": "error",
     "traceback": [
      "\u001b[0;31m---------------------------------------------------------------------------\u001b[0m",
      "\u001b[0;31mNameError\u001b[0m                                 Traceback (most recent call last)",
      "Cell \u001b[0;32mIn[9], line 6\u001b[0m\n\u001b[1;32m      3\u001b[0m \u001b[38;5;28;01mexcept\u001b[39;00m \u001b[38;5;167;01mNameError\u001b[39;00m:\n\u001b[1;32m      4\u001b[0m     file_path \u001b[38;5;241m=\u001b[39m \u001b[38;5;124m'\u001b[39m\u001b[38;5;124m! pwd\u001b[39m\u001b[38;5;124m'\u001b[39m\n\u001b[0;32m----> 6\u001b[0m filepath \u001b[38;5;241m=\u001b[39m os\u001b[38;5;241m.\u001b[39mpath\u001b[38;5;241m.\u001b[39mbasename(\u001b[38;5;18;43m__file__\u001b[39;49m) \u001b[38;5;66;03m# with extension\u001b[39;00m\n\u001b[1;32m      7\u001b[0m filename, _ \u001b[38;5;241m=\u001b[39m os\u001b[38;5;241m.\u001b[39mpath\u001b[38;5;241m.\u001b[39msplitext(filepath)\n\u001b[1;32m      9\u001b[0m \u001b[38;5;66;03m## note to self: __file__ does not work inside jupyter\u001b[39;00m\n",
      "\u001b[0;31mNameError\u001b[0m: name '__file__' is not defined"
     ]
    }
   ],
   "source": [
    "try:\n",
    "    file_path = __file__\n",
    "except NameError:\n",
    "    file_path =\n",
    "\n",
    "filepath = os.path.basename(__file__) # with extension\n",
    "filename, _ = os.path.splitext(filepath)\n",
    "\n",
    "## note to self: __file__ does not work inside jupyter\n",
    "print(f\"the name of this file is {filename}\")"
   ]
  },
  {
   "cell_type": "code",
   "execution_count": null,
   "metadata": {},
   "outputs": [],
   "source": []
  }
 ],
 "metadata": {
  "kernelspec": {
   "display_name": "heart-beat-decoder",
   "language": "python",
   "name": "python3"
  },
  "language_info": {
   "codemirror_mode": {
    "name": "ipython",
    "version": 3
   },
   "file_extension": ".py",
   "mimetype": "text/x-python",
   "name": "python",
   "nbconvert_exporter": "python",
   "pygments_lexer": "ipython3",
   "version": "3.10.6"
  }
 },
 "nbformat": 4,
 "nbformat_minor": 2
}
